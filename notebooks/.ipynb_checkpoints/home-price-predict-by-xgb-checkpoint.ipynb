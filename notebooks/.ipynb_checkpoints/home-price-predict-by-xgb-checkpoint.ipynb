{
 "cells": [
  {
   "cell_type": "code",
   "execution_count": null,
   "metadata": {
    "_cell_guid": "b1076dfc-b9ad-4769-8c92-a6c4dae69d19",
    "_uuid": "8f2839f25d086af736a60e9eeb907d3b93b6e0e5",
    "execution": {
     "iopub.execute_input": "2022-12-22T15:34:55.718901Z",
     "iopub.status.busy": "2022-12-22T15:34:55.718509Z",
     "iopub.status.idle": "2022-12-22T15:34:55.727083Z",
     "shell.execute_reply": "2022-12-22T15:34:55.72568Z",
     "shell.execute_reply.started": "2022-12-22T15:34:55.718871Z"
    }
   },
   "outputs": [],
   "source": [
    "import numpy as np\n",
    "import pandas as pd\n",
    "import matplotlib.pyplot as plt\n",
    "import seaborn as sns\n",
    "import warnings\n",
    "from lightgbm import LGBMRegressor\n",
    "from sklearn.ensemble import RandomForestRegressor, GradientBoostingRegressor\n",
    "from sklearn.exceptions import ConvergenceWarning\n",
    "from sklearn.neighbors import KNeighborsRegressor\n",
    "from sklearn.tree import DecisionTreeRegressor\n",
    "from xgboost import XGBRegressor\n",
    "from sklearn.preprocessing import LabelEncoder\n",
    "from sklearn.metrics import mean_squared_error\n",
    "from sklearn.linear_model import LinearRegression\n",
    "from sklearn.model_selection import train_test_split, cross_val_score,GridSearchCV\n",
    "\n",
    "\n",
    "warnings.simplefilter(action='ignore', category=FutureWarning)\n",
    "warnings.simplefilter(\"ignore\", category=ConvergenceWarning)"
   ]
  },
  {
   "cell_type": "code",
   "execution_count": null,
   "metadata": {
    "execution": {
     "iopub.execute_input": "2022-12-22T15:34:57.924581Z",
     "iopub.status.busy": "2022-12-22T15:34:57.924152Z",
     "iopub.status.idle": "2022-12-22T15:34:57.970344Z",
     "shell.execute_reply": "2022-12-22T15:34:57.969397Z",
     "shell.execute_reply.started": "2022-12-22T15:34:57.924545Z"
    }
   },
   "outputs": [],
   "source": [
    "df_train = pd.read_csv('/kaggle/input/house-prices-advanced-regression-techniques/train.csv')\n",
    "df_train.head()"
   ]
  },
  {
   "cell_type": "code",
   "execution_count": null,
   "metadata": {
    "execution": {
     "iopub.execute_input": "2022-12-22T15:35:00.198634Z",
     "iopub.status.busy": "2022-12-22T15:35:00.198252Z",
     "iopub.status.idle": "2022-12-22T15:35:00.243166Z",
     "shell.execute_reply": "2022-12-22T15:35:00.242124Z",
     "shell.execute_reply.started": "2022-12-22T15:35:00.198604Z"
    }
   },
   "outputs": [],
   "source": [
    "df_test = pd.read_csv('/kaggle/input/house-prices-advanced-regression-techniques/test.csv')\n",
    "df_test.head()"
   ]
  },
  {
   "cell_type": "code",
   "execution_count": null,
   "metadata": {
    "execution": {
     "iopub.execute_input": "2022-12-22T15:35:02.881811Z",
     "iopub.status.busy": "2022-12-22T15:35:02.881159Z",
     "iopub.status.idle": "2022-12-22T15:35:02.926715Z",
     "shell.execute_reply": "2022-12-22T15:35:02.925634Z",
     "shell.execute_reply.started": "2022-12-22T15:35:02.881775Z"
    }
   },
   "outputs": [],
   "source": [
    "# veri setlerini birleştirelim\n",
    "\n",
    "df = df_train.append(df_test,ignore_index=False).reset_index()\n",
    "df = df.drop(\"index\", axis=1)\n",
    "df.head()"
   ]
  },
  {
   "cell_type": "code",
   "execution_count": null,
   "metadata": {
    "execution": {
     "iopub.execute_input": "2022-12-22T15:35:05.500509Z",
     "iopub.status.busy": "2022-12-22T15:35:05.499496Z",
     "iopub.status.idle": "2022-12-22T15:35:05.618832Z",
     "shell.execute_reply": "2022-12-22T15:35:05.617589Z",
     "shell.execute_reply.started": "2022-12-22T15:35:05.500458Z"
    }
   },
   "outputs": [],
   "source": [
    "# sayısal değişkenlere genel bir bakış\n",
    "df.describe().transpose().style.background_gradient(cmap = \"magma\")"
   ]
  },
  {
   "cell_type": "code",
   "execution_count": null,
   "metadata": {
    "execution": {
     "iopub.execute_input": "2022-12-22T15:35:10.764518Z",
     "iopub.status.busy": "2022-12-22T15:35:10.764127Z",
     "iopub.status.idle": "2022-12-22T15:35:11.085486Z",
     "shell.execute_reply": "2022-12-22T15:35:11.084509Z",
     "shell.execute_reply.started": "2022-12-22T15:35:10.764485Z"
    }
   },
   "outputs": [],
   "source": [
    "# hedef değişken analizi\n",
    "sns.distplot(df[\"SalePrice\"])"
   ]
  },
  {
   "cell_type": "code",
   "execution_count": null,
   "metadata": {
    "execution": {
     "iopub.execute_input": "2022-12-22T15:35:13.795321Z",
     "iopub.status.busy": "2022-12-22T15:35:13.794893Z",
     "iopub.status.idle": "2022-12-22T15:35:14.113472Z",
     "shell.execute_reply": "2022-12-22T15:35:14.112202Z",
     "shell.execute_reply.started": "2022-12-22T15:35:13.795258Z"
    }
   },
   "outputs": [],
   "source": [
    "# hedef değişkenin standartlaştırılması (logaritmik hali)\n",
    "df[\"LogSalePrice\"] = np.log10(df[\"SalePrice\"])\n",
    "sns.distplot(df[\"LogSalePrice\"],color = 'r')"
   ]
  },
  {
   "cell_type": "markdown",
   "metadata": {},
   "source": [
    "## Missing Values and Data Processing (Missing Values and Veri İşleme) "
   ]
  },
  {
   "cell_type": "code",
   "execution_count": null,
   "metadata": {
    "execution": {
     "iopub.execute_input": "2022-12-22T15:36:33.793246Z",
     "iopub.status.busy": "2022-12-22T15:36:33.792852Z",
     "iopub.status.idle": "2022-12-22T15:36:33.826805Z",
     "shell.execute_reply": "2022-12-22T15:36:33.825699Z",
     "shell.execute_reply.started": "2022-12-22T15:36:33.793213Z"
    }
   },
   "outputs": [],
   "source": [
    "# Tekrar eden veri var mı?\n",
    "df.duplicated().sum()"
   ]
  },
  {
   "cell_type": "code",
   "execution_count": null,
   "metadata": {
    "execution": {
     "iopub.execute_input": "2022-12-22T15:36:48.006505Z",
     "iopub.status.busy": "2022-12-22T15:36:48.006062Z",
     "iopub.status.idle": "2022-12-22T15:36:48.023987Z",
     "shell.execute_reply": "2022-12-22T15:36:48.022801Z",
     "shell.execute_reply.started": "2022-12-22T15:36:48.006469Z"
    }
   },
   "outputs": [],
   "source": [
    "# eksik değerler \n",
    "pd.reset_option('max_rows')\n",
    "pd.options.display.max_rows=None ## shows all the rows\n",
    "df.isnull().sum()"
   ]
  },
  {
   "cell_type": "code",
   "execution_count": null,
   "metadata": {
    "execution": {
     "iopub.execute_input": "2022-12-22T15:37:01.229499Z",
     "iopub.status.busy": "2022-12-22T15:37:01.228981Z",
     "iopub.status.idle": "2022-12-22T15:37:01.243342Z",
     "shell.execute_reply": "2022-12-22T15:37:01.242255Z",
     "shell.execute_reply.started": "2022-12-22T15:37:01.229462Z"
    }
   },
   "outputs": [],
   "source": [
    "# değişkenin sınıfları\n",
    "df.LotFrontage.value_counts()"
   ]
  },
  {
   "cell_type": "code",
   "execution_count": null,
   "metadata": {
    "execution": {
     "iopub.execute_input": "2022-12-22T15:37:06.087467Z",
     "iopub.status.busy": "2022-12-22T15:37:06.087025Z",
     "iopub.status.idle": "2022-12-22T15:37:06.382677Z",
     "shell.execute_reply": "2022-12-22T15:37:06.381708Z",
     "shell.execute_reply.started": "2022-12-22T15:37:06.087431Z"
    }
   },
   "outputs": [],
   "source": [
    "# değişkenin grafiği\n",
    "sns.distplot(df.LotFrontage)\n",
    "plt.show()"
   ]
  },
  {
   "cell_type": "code",
   "execution_count": null,
   "metadata": {
    "execution": {
     "iopub.execute_input": "2022-12-22T15:37:20.173082Z",
     "iopub.status.busy": "2022-12-22T15:37:20.171893Z",
     "iopub.status.idle": "2022-12-22T15:37:20.180421Z",
     "shell.execute_reply": "2022-12-22T15:37:20.179159Z",
     "shell.execute_reply.started": "2022-12-22T15:37:20.17304Z"
    }
   },
   "outputs": [],
   "source": [
    "# ortalama değeri\n",
    "df['LotFrontage'].mean()"
   ]
  },
  {
   "cell_type": "code",
   "execution_count": null,
   "metadata": {
    "execution": {
     "iopub.execute_input": "2022-12-22T15:37:42.38943Z",
     "iopub.status.busy": "2022-12-22T15:37:42.388324Z",
     "iopub.status.idle": "2022-12-22T15:37:42.396005Z",
     "shell.execute_reply": "2022-12-22T15:37:42.394818Z",
     "shell.execute_reply.started": "2022-12-22T15:37:42.38939Z"
    }
   },
   "outputs": [],
   "source": [
    "# Toplam sayıya göre oranı\n",
    "print('The Percentage of data missing in LotFrontage is ',df.LotFrontage.isnull().sum()/len(df)*100)"
   ]
  },
  {
   "cell_type": "code",
   "execution_count": null,
   "metadata": {
    "execution": {
     "iopub.execute_input": "2022-12-22T15:38:07.856238Z",
     "iopub.status.busy": "2022-12-22T15:38:07.855543Z",
     "iopub.status.idle": "2022-12-22T15:38:07.883008Z",
     "shell.execute_reply": "2022-12-22T15:38:07.882078Z",
     "shell.execute_reply.started": "2022-12-22T15:38:07.856204Z"
    }
   },
   "outputs": [],
   "source": [
    "df.loc[df['LotFrontage'].isnull()==True].head()"
   ]
  },
  {
   "cell_type": "code",
   "execution_count": null,
   "metadata": {
    "execution": {
     "iopub.execute_input": "2022-12-22T15:38:27.472494Z",
     "iopub.status.busy": "2022-12-22T15:38:27.472081Z",
     "iopub.status.idle": "2022-12-22T15:38:27.479246Z",
     "shell.execute_reply": "2022-12-22T15:38:27.478424Z",
     "shell.execute_reply.started": "2022-12-22T15:38:27.472461Z"
    }
   },
   "outputs": [],
   "source": [
    "# değişkendeki boş değerleri ortalama ile doldurma\n",
    "df.loc[df['LotFrontage'].isnull()==True,'LotFrontage']=69.30"
   ]
  },
  {
   "cell_type": "code",
   "execution_count": null,
   "metadata": {
    "execution": {
     "iopub.execute_input": "2022-12-22T15:38:50.623104Z",
     "iopub.status.busy": "2022-12-22T15:38:50.622421Z",
     "iopub.status.idle": "2022-12-22T15:38:50.634126Z",
     "shell.execute_reply": "2022-12-22T15:38:50.633339Z",
     "shell.execute_reply.started": "2022-12-22T15:38:50.623068Z"
    }
   },
   "outputs": [],
   "source": [
    "# Yüzde 80'den fazla eksik veri olan değişkenler\n",
    "d1=df[['Alley','PoolQC','Fence','MiscFeature']]\n",
    "a=d1.isnull().sum()/len(d1)*100\n",
    "a"
   ]
  },
  {
   "cell_type": "code",
   "execution_count": null,
   "metadata": {
    "execution": {
     "iopub.execute_input": "2022-12-22T15:38:55.368428Z",
     "iopub.status.busy": "2022-12-22T15:38:55.368051Z",
     "iopub.status.idle": "2022-12-22T15:38:55.376199Z",
     "shell.execute_reply": "2022-12-22T15:38:55.375017Z",
     "shell.execute_reply.started": "2022-12-22T15:38:55.368397Z"
    }
   },
   "outputs": [],
   "source": [
    "df.drop(['Alley','PoolQC','Fence','MiscFeature'],axis=1,inplace=True)"
   ]
  },
  {
   "cell_type": "code",
   "execution_count": null,
   "metadata": {
    "execution": {
     "iopub.execute_input": "2022-12-22T15:39:26.200867Z",
     "iopub.status.busy": "2022-12-22T15:39:26.199768Z",
     "iopub.status.idle": "2022-12-22T15:39:26.21212Z",
     "shell.execute_reply": "2022-12-22T15:39:26.211302Z",
     "shell.execute_reply.started": "2022-12-22T15:39:26.200821Z"
    }
   },
   "outputs": [],
   "source": [
    "# Eksik değerlerin yüzdesi\n",
    "\n",
    "d2=df[['BsmtQual','BsmtCond','BsmtExposure','BsmtFinType1','BsmtFinType2']]\n",
    "b=d2.isnull().sum()/len(d2)*100\n",
    "b"
   ]
  },
  {
   "cell_type": "code",
   "execution_count": null,
   "metadata": {
    "execution": {
     "iopub.execute_input": "2022-12-22T15:39:42.522117Z",
     "iopub.status.busy": "2022-12-22T15:39:42.521447Z",
     "iopub.status.idle": "2022-12-22T15:39:42.533105Z",
     "shell.execute_reply": "2022-12-22T15:39:42.531971Z",
     "shell.execute_reply.started": "2022-12-22T15:39:42.52208Z"
    }
   },
   "outputs": [],
   "source": [
    "# Eksik değerleri 'NA' ile değiştirme\n",
    "\n",
    "df['BsmtQual']=df['BsmtQual'].fillna('NA')\n",
    "df['BsmtCond']=df['BsmtCond'].fillna('NA')\n",
    "df['BsmtExposure']=df['BsmtExposure'].fillna('NA')\n",
    "df['BsmtFinType1']=df['BsmtFinType1'].fillna('NA')\n",
    "df['BsmtFinType2']=df['BsmtFinType2'].fillna('NA')"
   ]
  },
  {
   "cell_type": "code",
   "execution_count": null,
   "metadata": {
    "execution": {
     "iopub.execute_input": "2022-12-22T15:39:44.729191Z",
     "iopub.status.busy": "2022-12-22T15:39:44.728806Z",
     "iopub.status.idle": "2022-12-22T15:39:44.738445Z",
     "shell.execute_reply": "2022-12-22T15:39:44.737257Z",
     "shell.execute_reply.started": "2022-12-22T15:39:44.729154Z"
    }
   },
   "outputs": [],
   "source": [
    "df.MasVnrType.value_counts()"
   ]
  },
  {
   "cell_type": "code",
   "execution_count": null,
   "metadata": {
    "execution": {
     "iopub.execute_input": "2022-12-22T15:40:02.74236Z",
     "iopub.status.busy": "2022-12-22T15:40:02.741951Z",
     "iopub.status.idle": "2022-12-22T15:40:02.749501Z",
     "shell.execute_reply": "2022-12-22T15:40:02.748093Z",
     "shell.execute_reply.started": "2022-12-22T15:40:02.742326Z"
    }
   },
   "outputs": [],
   "source": [
    "# Eksik değerleri 'None' ile değiştirme\n",
    "df.loc[df['MasVnrType'].isnull()==True,'MasVnrType']='None'"
   ]
  },
  {
   "cell_type": "code",
   "execution_count": null,
   "metadata": {
    "execution": {
     "iopub.execute_input": "2022-12-22T15:40:05.086427Z",
     "iopub.status.busy": "2022-12-22T15:40:05.085408Z",
     "iopub.status.idle": "2022-12-22T15:40:05.439479Z",
     "shell.execute_reply": "2022-12-22T15:40:05.438366Z",
     "shell.execute_reply.started": "2022-12-22T15:40:05.086366Z"
    }
   },
   "outputs": [],
   "source": [
    " sns.distplot(df.MasVnrArea)"
   ]
  },
  {
   "cell_type": "code",
   "execution_count": null,
   "metadata": {
    "execution": {
     "iopub.execute_input": "2022-12-22T15:40:08.489396Z",
     "iopub.status.busy": "2022-12-22T15:40:08.488974Z",
     "iopub.status.idle": "2022-12-22T15:40:08.497116Z",
     "shell.execute_reply": "2022-12-22T15:40:08.496164Z",
     "shell.execute_reply.started": "2022-12-22T15:40:08.489362Z"
    }
   },
   "outputs": [],
   "source": [
    "df['MasVnrArea'].median()"
   ]
  },
  {
   "cell_type": "code",
   "execution_count": null,
   "metadata": {
    "execution": {
     "iopub.execute_input": "2022-12-22T15:40:22.30177Z",
     "iopub.status.busy": "2022-12-22T15:40:22.301373Z",
     "iopub.status.idle": "2022-12-22T15:40:22.308217Z",
     "shell.execute_reply": "2022-12-22T15:40:22.307309Z",
     "shell.execute_reply.started": "2022-12-22T15:40:22.301735Z"
    }
   },
   "outputs": [],
   "source": [
    "# Eksik değerleri median ile değiştirme\n",
    "df.loc[df['MasVnrArea'].isnull()==True,'MasVnrArea']=0.0"
   ]
  },
  {
   "cell_type": "code",
   "execution_count": null,
   "metadata": {
    "execution": {
     "iopub.execute_input": "2022-12-22T15:40:25.07356Z",
     "iopub.status.busy": "2022-12-22T15:40:25.073144Z",
     "iopub.status.idle": "2022-12-22T15:40:25.086522Z",
     "shell.execute_reply": "2022-12-22T15:40:25.085014Z",
     "shell.execute_reply.started": "2022-12-22T15:40:25.073525Z"
    }
   },
   "outputs": [],
   "source": [
    "d3=df[['GarageType','GarageYrBlt','GarageFinish','GarageQual','GarageCond' ]]\n",
    "c=d3.isnull().sum()/len(d3)*100\n",
    "c"
   ]
  },
  {
   "cell_type": "code",
   "execution_count": null,
   "metadata": {
    "execution": {
     "iopub.execute_input": "2022-12-22T15:40:35.390508Z",
     "iopub.status.busy": "2022-12-22T15:40:35.390087Z",
     "iopub.status.idle": "2022-12-22T15:40:35.400726Z",
     "shell.execute_reply": "2022-12-22T15:40:35.399405Z",
     "shell.execute_reply.started": "2022-12-22T15:40:35.390472Z"
    }
   },
   "outputs": [],
   "source": [
    "# Eksik değerleri 'NA' ile değiştirme\n",
    "df['GarageType']=df['GarageType'].fillna('NA')\n",
    "df['GarageFinish']=df['GarageFinish'].fillna('NA')\n",
    "df['GarageQual']=df['GarageQual'].fillna('NA')\n",
    "df['GarageCond']=df['GarageCond'].fillna('NA')"
   ]
  },
  {
   "cell_type": "code",
   "execution_count": null,
   "metadata": {
    "execution": {
     "iopub.execute_input": "2022-12-22T15:40:37.139184Z",
     "iopub.status.busy": "2022-12-22T15:40:37.138473Z",
     "iopub.status.idle": "2022-12-22T15:40:37.4732Z",
     "shell.execute_reply": "2022-12-22T15:40:37.472471Z",
     "shell.execute_reply.started": "2022-12-22T15:40:37.139137Z"
    }
   },
   "outputs": [],
   "source": [
    "sns.distplot(df.GarageYrBlt)"
   ]
  },
  {
   "cell_type": "code",
   "execution_count": null,
   "metadata": {
    "execution": {
     "iopub.execute_input": "2022-12-22T15:40:40.020329Z",
     "iopub.status.busy": "2022-12-22T15:40:40.019922Z",
     "iopub.status.idle": "2022-12-22T15:40:40.027891Z",
     "shell.execute_reply": "2022-12-22T15:40:40.026837Z",
     "shell.execute_reply.started": "2022-12-22T15:40:40.020285Z"
    }
   },
   "outputs": [],
   "source": [
    "df.GarageYrBlt.median()"
   ]
  },
  {
   "cell_type": "code",
   "execution_count": null,
   "metadata": {
    "execution": {
     "iopub.execute_input": "2022-12-22T15:40:53.67852Z",
     "iopub.status.busy": "2022-12-22T15:40:53.677408Z",
     "iopub.status.idle": "2022-12-22T15:40:53.684253Z",
     "shell.execute_reply": "2022-12-22T15:40:53.683146Z",
     "shell.execute_reply.started": "2022-12-22T15:40:53.678482Z"
    }
   },
   "outputs": [],
   "source": [
    "# Eksik değerleri median ile değiştirme\n",
    "df.loc[df['GarageYrBlt'].isnull()==True,'GarageYrBlt']=1979.0"
   ]
  },
  {
   "cell_type": "code",
   "execution_count": null,
   "metadata": {
    "execution": {
     "iopub.execute_input": "2022-12-22T15:40:55.566879Z",
     "iopub.status.busy": "2022-12-22T15:40:55.566104Z",
     "iopub.status.idle": "2022-12-22T15:40:55.575081Z",
     "shell.execute_reply": "2022-12-22T15:40:55.573962Z",
     "shell.execute_reply.started": "2022-12-22T15:40:55.566837Z"
    }
   },
   "outputs": [],
   "source": [
    "df.Electrical.value_counts()"
   ]
  },
  {
   "cell_type": "code",
   "execution_count": null,
   "metadata": {
    "execution": {
     "iopub.execute_input": "2022-12-22T15:41:12.094165Z",
     "iopub.status.busy": "2022-12-22T15:41:12.093771Z",
     "iopub.status.idle": "2022-12-22T15:41:12.101487Z",
     "shell.execute_reply": "2022-12-22T15:41:12.100287Z",
     "shell.execute_reply.started": "2022-12-22T15:41:12.094132Z"
    }
   },
   "outputs": [],
   "source": [
    "# Eksik değerleri SBrkr ile değiştirme\n",
    "df.loc[df['Electrical'].isnull()==True,'Electrical']='SBrkr'"
   ]
  },
  {
   "cell_type": "code",
   "execution_count": null,
   "metadata": {
    "execution": {
     "iopub.execute_input": "2022-12-22T15:41:13.662363Z",
     "iopub.status.busy": "2022-12-22T15:41:13.661955Z",
     "iopub.status.idle": "2022-12-22T15:41:13.671245Z",
     "shell.execute_reply": "2022-12-22T15:41:13.670092Z",
     "shell.execute_reply.started": "2022-12-22T15:41:13.662327Z"
    }
   },
   "outputs": [],
   "source": [
    "df.FireplaceQu.value_counts()"
   ]
  },
  {
   "cell_type": "code",
   "execution_count": null,
   "metadata": {
    "execution": {
     "iopub.execute_input": "2022-12-22T15:41:33.476371Z",
     "iopub.status.busy": "2022-12-22T15:41:33.475642Z",
     "iopub.status.idle": "2022-12-22T15:41:33.483317Z",
     "shell.execute_reply": "2022-12-22T15:41:33.482173Z",
     "shell.execute_reply.started": "2022-12-22T15:41:33.476262Z"
    }
   },
   "outputs": [],
   "source": [
    "# Eksik değerleri NA ile değiştirme\n",
    "df.loc[df['FireplaceQu'].isnull()==True,'FireplaceQu']='NA'"
   ]
  },
  {
   "cell_type": "code",
   "execution_count": null,
   "metadata": {
    "execution": {
     "iopub.execute_input": "2022-12-22T15:41:35.077501Z",
     "iopub.status.busy": "2022-12-22T15:41:35.076506Z",
     "iopub.status.idle": "2022-12-22T15:41:35.092571Z",
     "shell.execute_reply": "2022-12-22T15:41:35.091411Z",
     "shell.execute_reply.started": "2022-12-22T15:41:35.077462Z"
    }
   },
   "outputs": [],
   "source": [
    "df.isnull().sum()"
   ]
  },
  {
   "cell_type": "code",
   "execution_count": null,
   "metadata": {
    "execution": {
     "iopub.execute_input": "2022-12-22T15:42:12.37265Z",
     "iopub.status.busy": "2022-12-22T15:42:12.372034Z",
     "iopub.status.idle": "2022-12-22T15:42:12.425831Z",
     "shell.execute_reply": "2022-12-22T15:42:12.424748Z",
     "shell.execute_reply.started": "2022-12-22T15:42:12.372616Z"
    }
   },
   "outputs": [],
   "source": [
    "# SalePrice dışındaki tüm değişkenlerde kalan boş değerleri 0 ile dolduralım\n",
    "\n",
    "df1 = df.drop([\"LogSalePrice\", \"SalePrice\"], axis=1)\n",
    "df2 = df[[\"Id\", 'SalePrice',\"LogSalePrice\"]]\n",
    "df1 = df1.fillna(0)\n",
    "df = pd.merge(df1, df2, how=\"left\")\n",
    "df.isnull().sum()"
   ]
  },
  {
   "cell_type": "code",
   "execution_count": null,
   "metadata": {
    "execution": {
     "iopub.execute_input": "2022-12-22T15:42:28.790521Z",
     "iopub.status.busy": "2022-12-22T15:42:28.790079Z",
     "iopub.status.idle": "2022-12-22T15:42:28.802106Z",
     "shell.execute_reply": "2022-12-22T15:42:28.801036Z",
     "shell.execute_reply.started": "2022-12-22T15:42:28.790485Z"
    }
   },
   "outputs": [],
   "source": [
    "# sayısal ve kategorik değişken ayrımmı\n",
    "\n",
    "cate_feat = list(df.select_dtypes(include = [object]).columns)\n",
    "num_feat = list(df.select_dtypes(include = [int,float]).columns)\n",
    "\n",
    "print(cate_feat)\n",
    "print('\\n')\n",
    "print(num_feat)"
   ]
  },
  {
   "cell_type": "code",
   "execution_count": null,
   "metadata": {
    "execution": {
     "iopub.execute_input": "2022-12-22T15:43:35.619155Z",
     "iopub.status.busy": "2022-12-22T15:43:35.618083Z",
     "iopub.status.idle": "2022-12-22T15:43:42.120994Z",
     "shell.execute_reply": "2022-12-22T15:43:42.119837Z",
     "shell.execute_reply.started": "2022-12-22T15:43:35.619106Z"
    }
   },
   "outputs": [],
   "source": [
    "# Korelasyon analizi\n",
    "corr_matrix = df[num_feat].corr()\n",
    "\n",
    "# Önemsiz derece olanları sıfırlayıp hassasiyeti yükseltelim\n",
    "corr_matrix[(corr_matrix < 0.3) & (corr_matrix > -0.3)] = 0\n",
    "\n",
    "# korelasyon grafiğini inceleylim\n",
    "sns.heatmap(corr_matrix, vmax=1.0, vmin=-1.0, linewidths=0.1,\n",
    "            annot_kws={\"size\": 9, \"color\": \"black\"},annot=True)\n",
    "plt.title(\"SalePrice Correlation\")"
   ]
  },
  {
   "cell_type": "code",
   "execution_count": null,
   "metadata": {
    "execution": {
     "iopub.execute_input": "2022-12-22T15:44:57.579182Z",
     "iopub.status.busy": "2022-12-22T15:44:57.578806Z",
     "iopub.status.idle": "2022-12-22T15:44:57.602184Z",
     "shell.execute_reply": "2022-12-22T15:44:57.601036Z",
     "shell.execute_reply.started": "2022-12-22T15:44:57.579151Z"
    }
   },
   "outputs": [],
   "source": [
    "# SalePrice değişkeni ile en bağlantılı değişkenleri bulalım.\n",
    "# ilk 2'de SalePrice ve LogSalePrice değişkeni olduğundan [2:8]\n",
    "\n",
    "corr =df.corr()[\"SalePrice\"].sort_values(ascending = False)[2:8]\n",
    "corr"
   ]
  },
  {
   "cell_type": "code",
   "execution_count": null,
   "metadata": {
    "execution": {
     "iopub.execute_input": "2022-12-22T15:45:03.318296Z",
     "iopub.status.busy": "2022-12-22T15:45:03.317886Z",
     "iopub.status.idle": "2022-12-22T15:45:04.600048Z",
     "shell.execute_reply": "2022-12-22T15:45:04.599245Z",
     "shell.execute_reply.started": "2022-12-22T15:45:03.318249Z"
    }
   },
   "outputs": [],
   "source": [
    "f,ax = plt.subplots(nrows = 6,ncols = 1, figsize = (20,40))\n",
    "for i,col in enumerate(corr.index):    \n",
    "    sns.scatterplot(x = col, y = \"SalePrice\", data = df, ax = ax[i], color = 'darkorange')\n",
    "    ax[i].set_title(f'{col} vs SalePrice')\n",
    "    \n",
    "# Fiyat değişkeni ile pozitif yönlü corelasyonu olan değişkenleri görebiliriz.\n",
    "# Bunlar fiyata en çok etki eden değişkenler."
   ]
  },
  {
   "cell_type": "code",
   "execution_count": null,
   "metadata": {
    "execution": {
     "iopub.execute_input": "2022-12-22T15:45:10.88736Z",
     "iopub.status.busy": "2022-12-22T15:45:10.8866Z",
     "iopub.status.idle": "2022-12-22T15:45:13.805553Z",
     "shell.execute_reply": "2022-12-22T15:45:13.804486Z",
     "shell.execute_reply.started": "2022-12-22T15:45:10.887322Z"
    }
   },
   "outputs": [],
   "source": [
    "# Bina yaşı ve fiyat arasındaki ilişki\n",
    "\n",
    "f, ax = plt.subplots(figsize=(16, 8))\n",
    "fig = sns.boxplot(x=\"YearBuilt\", y=\"SalePrice\", data=df,)\n",
    "fig.axis(ymin=0, ymax=900000);\n",
    "plt.xticks(rotation=90);\n",
    "plt.tight_layout()"
   ]
  },
  {
   "cell_type": "code",
   "execution_count": null,
   "metadata": {
    "execution": {
     "iopub.execute_input": "2022-12-22T14:46:28.015409Z",
     "iopub.status.busy": "2022-12-22T14:46:28.014978Z",
     "iopub.status.idle": "2022-12-22T14:46:28.71994Z",
     "shell.execute_reply": "2022-12-22T14:46:28.719062Z",
     "shell.execute_reply.started": "2022-12-22T14:46:28.015372Z"
    }
   },
   "outputs": [],
   "source": [
    "yr_built = pd.DataFrame({\"Count\":df[\"YearBuilt\"].value_counts()[:10]}).reset_index()\n",
    "yr_built.rename(columns={'index':'Year'},inplace=True)\n",
    "plt.figure(figsize = (20,10))\n",
    "sns.barplot(x = 'Year', y = \"Count\", data = yr_built)\n",
    "plt.title(\"Year Built\")"
   ]
  },
  {
   "cell_type": "markdown",
   "metadata": {},
   "source": [
    "## Exploratory Data Analysis"
   ]
  },
  {
   "cell_type": "code",
   "execution_count": null,
   "metadata": {
    "execution": {
     "iopub.execute_input": "2022-12-22T15:45:47.177103Z",
     "iopub.status.busy": "2022-12-22T15:45:47.176666Z",
     "iopub.status.idle": "2022-12-22T15:45:47.185984Z",
     "shell.execute_reply": "2022-12-22T15:45:47.184704Z",
     "shell.execute_reply.started": "2022-12-22T15:45:47.177067Z"
    }
   },
   "outputs": [],
   "source": [
    "# \"0\" tipindeki değişkenlerin analizi\n",
    "dtype_objects = list(columns for columns in df.select_dtypes([object]).columns)"
   ]
  },
  {
   "cell_type": "code",
   "execution_count": null,
   "metadata": {
    "execution": {
     "iopub.execute_input": "2022-12-22T15:45:48.625956Z",
     "iopub.status.busy": "2022-12-22T15:45:48.62475Z",
     "iopub.status.idle": "2022-12-22T15:45:56.23005Z",
     "shell.execute_reply": "2022-12-22T15:45:56.229062Z",
     "shell.execute_reply.started": "2022-12-22T15:45:48.625918Z"
    }
   },
   "outputs": [],
   "source": [
    "plt.figure(figsize=(15,150))\n",
    "plotnumber=1\n",
    "for c in dtype_objects:\n",
    "    ax=plt.subplot(20,2,plotnumber)\n",
    "    b= sns.countplot(x=df[c],palette='Set2')\n",
    "    plt.xticks(rotation=70)\n",
    "    plotnumber+=1\n",
    "    for bar in b.patches:\n",
    "        b.annotate(format(bar.get_height()),\n",
    "            (bar.get_x() + bar.get_width() / 2,\n",
    "            bar.get_height()), ha='center', va='center',\n",
    "            size=10, xytext=(0, 6),textcoords='offset points')\n",
    "plt.show() "
   ]
  },
  {
   "cell_type": "code",
   "execution_count": null,
   "metadata": {
    "execution": {
     "iopub.execute_input": "2022-12-22T15:46:13.42359Z",
     "iopub.status.busy": "2022-12-22T15:46:13.423206Z",
     "iopub.status.idle": "2022-12-22T15:46:13.430956Z",
     "shell.execute_reply": "2022-12-22T15:46:13.429788Z",
     "shell.execute_reply.started": "2022-12-22T15:46:13.423561Z"
    }
   },
   "outputs": [],
   "source": [
    "# \"float\" tipindeki değişken analizi\n",
    "dtype_float =list(columns for columns in df.select_dtypes([float]).columns)"
   ]
  },
  {
   "cell_type": "code",
   "execution_count": null,
   "metadata": {
    "execution": {
     "iopub.execute_input": "2022-12-22T15:46:15.435239Z",
     "iopub.status.busy": "2022-12-22T15:46:15.434871Z",
     "iopub.status.idle": "2022-12-22T15:46:19.431196Z",
     "shell.execute_reply": "2022-12-22T15:46:19.430402Z",
     "shell.execute_reply.started": "2022-12-22T15:46:15.435208Z"
    }
   },
   "outputs": [],
   "source": [
    "plt.figure(figsize=(15,150))\n",
    "plotnumber=1\n",
    "for a in dtype_float:\n",
    "    ax=plt.subplot(20,2,plotnumber)\n",
    "    sns.distplot(x=df[a],color='purple')\n",
    "    plt.xticks(rotation=70)\n",
    "    plotnumber+=1\n",
    "plt.show() "
   ]
  },
  {
   "cell_type": "code",
   "execution_count": null,
   "metadata": {
    "execution": {
     "iopub.execute_input": "2022-12-22T15:46:45.7975Z",
     "iopub.status.busy": "2022-12-22T15:46:45.797127Z",
     "iopub.status.idle": "2022-12-22T15:46:45.951452Z",
     "shell.execute_reply": "2022-12-22T15:46:45.949758Z",
     "shell.execute_reply.started": "2022-12-22T15:46:45.797469Z"
    }
   },
   "outputs": [],
   "source": [
    "# bazı kategorik değişkenler\n",
    "\n",
    "plt.figure(figsize=(5,5))\n",
    "labels=['Y','N']\n",
    "size=df['CentralAir'].value_counts()\n",
    "colors=['lightgreen','lightslategray']\n",
    "explode=[0,0.3]\n",
    "plt.pie(size,labels=labels,colors=colors,explode=explode,autopct='%.2f%%',shadow = True,startangle = -30,\n",
    "wedgeprops= {'edgecolor':'white','linewidth':1})\n",
    "plt.legend(labels,loc=\"upper right\",title='Category') ## used to label at the side\n",
    "plt.show()"
   ]
  },
  {
   "cell_type": "markdown",
   "metadata": {},
   "source": [
    "%93,29 evde CentralAir var ve %6,71 evde CentralAir yok"
   ]
  },
  {
   "cell_type": "code",
   "execution_count": null,
   "metadata": {
    "execution": {
     "iopub.execute_input": "2022-12-22T15:46:59.679828Z",
     "iopub.status.busy": "2022-12-22T15:46:59.679429Z",
     "iopub.status.idle": "2022-12-22T15:46:59.829121Z",
     "shell.execute_reply": "2022-12-22T15:46:59.82735Z",
     "shell.execute_reply.started": "2022-12-22T15:46:59.679796Z"
    }
   },
   "outputs": [],
   "source": [
    "plt.figure(figsize=(5,5))\n",
    "labels=['Fin','RFn','Unf','NA']\n",
    "size=df['GarageFinish'].value_counts()\n",
    "colors=['purple','lightblue','pink','yellow']\n",
    "explode=[0,0.1,0,0]\n",
    "plt.pie(size,labels=labels,colors=colors,explode=explode,autopct='%.2f%%',shadow=True)\n",
    "circle = plt.Circle( (0,0),0.8, color='white')\n",
    "p=plt.gcf()\n",
    "p.gca().add_artist(circle)\n",
    "plt.show()"
   ]
  },
  {
   "cell_type": "markdown",
   "metadata": {},
   "source": [
    "evlerin %42,14'ü için garajın iç kaplaması bitti."
   ]
  },
  {
   "cell_type": "markdown",
   "metadata": {},
   "source": [
    "## Multi Varient Analysis"
   ]
  },
  {
   "cell_type": "code",
   "execution_count": null,
   "metadata": {
    "execution": {
     "iopub.execute_input": "2022-12-22T15:48:53.186683Z",
     "iopub.status.busy": "2022-12-22T15:48:53.186225Z",
     "iopub.status.idle": "2022-12-22T15:48:53.531082Z",
     "shell.execute_reply": "2022-12-22T15:48:53.530326Z",
     "shell.execute_reply.started": "2022-12-22T15:48:53.186649Z"
    }
   },
   "outputs": [],
   "source": [
    "# çok sınıflı değişken analizi\n",
    "\n",
    "plt.figure(figsize=(15,9))\n",
    "sns.countplot(x='CentralAir',hue='BedroomAbvGr',palette='terrain',data=df).set(title=\"BedroomAbvGr vs CentralAir\")\n",
    "plt.show()"
   ]
  },
  {
   "cell_type": "code",
   "execution_count": null,
   "metadata": {
    "execution": {
     "iopub.execute_input": "2022-12-22T15:48:56.473018Z",
     "iopub.status.busy": "2022-12-22T15:48:56.471907Z",
     "iopub.status.idle": "2022-12-22T15:48:56.693937Z",
     "shell.execute_reply": "2022-12-22T15:48:56.693211Z",
     "shell.execute_reply.started": "2022-12-22T15:48:56.472979Z"
    }
   },
   "outputs": [],
   "source": [
    "sns.scatterplot(x='GarageArea',y='GarageYrBlt',data=df,color='lightcoral')\n",
    "plt.show()"
   ]
  },
  {
   "cell_type": "code",
   "execution_count": null,
   "metadata": {
    "execution": {
     "iopub.execute_input": "2022-12-22T15:49:00.116626Z",
     "iopub.status.busy": "2022-12-22T15:49:00.115738Z",
     "iopub.status.idle": "2022-12-22T15:49:00.120577Z",
     "shell.execute_reply": "2022-12-22T15:49:00.119707Z",
     "shell.execute_reply.started": "2022-12-22T15:49:00.11659Z"
    }
   },
   "outputs": [],
   "source": [
    "data=df"
   ]
  },
  {
   "cell_type": "code",
   "execution_count": null,
   "metadata": {
    "execution": {
     "iopub.execute_input": "2022-12-22T15:49:04.496924Z",
     "iopub.status.busy": "2022-12-22T15:49:04.496546Z",
     "iopub.status.idle": "2022-12-22T15:49:16.978128Z",
     "shell.execute_reply": "2022-12-22T15:49:16.977022Z",
     "shell.execute_reply.started": "2022-12-22T15:49:04.496885Z"
    }
   },
   "outputs": [],
   "source": [
    "plt.figure(figsize=(20,150),facecolor='white')\n",
    "plotnumber=1\n",
    "for c in dtype_objects:\n",
    "    ax=plt.subplot(20,2,plotnumber)\n",
    "    sns.barplot(x=data[c],y=data.SalePrice,palette='Set3')\n",
    "    plotnumber+=1\n",
    "    plt.xticks(rotation=70)\n",
    "plt.show() "
   ]
  },
  {
   "cell_type": "code",
   "execution_count": null,
   "metadata": {
    "execution": {
     "iopub.execute_input": "2022-12-22T15:49:29.292494Z",
     "iopub.status.busy": "2022-12-22T15:49:29.291794Z",
     "iopub.status.idle": "2022-12-22T15:49:29.815476Z",
     "shell.execute_reply": "2022-12-22T15:49:29.814514Z",
     "shell.execute_reply.started": "2022-12-22T15:49:29.292456Z"
    }
   },
   "outputs": [],
   "source": [
    "plt.figure(figsize=(15,9))\n",
    "splot=sns.barplot(x='Electrical',y='MSSubClass',hue='CentralAir',palette='nipy_spectral',data=data)\n",
    "plt.show()"
   ]
  },
  {
   "cell_type": "code",
   "execution_count": null,
   "metadata": {
    "execution": {
     "iopub.execute_input": "2022-12-22T15:01:07.310364Z",
     "iopub.status.busy": "2022-12-22T15:01:07.3098Z",
     "iopub.status.idle": "2022-12-22T15:01:07.318137Z",
     "shell.execute_reply": "2022-12-22T15:01:07.316764Z",
     "shell.execute_reply.started": "2022-12-22T15:01:07.310315Z"
    }
   },
   "outputs": [],
   "source": [
    "box=df[['LotArea','YearBuilt','BsmtFinSF1','1stFlrSF','2ndFlrSF','LotFrontage', 'MasVnrArea', 'GarageYrBlt']]"
   ]
  },
  {
   "cell_type": "code",
   "execution_count": null,
   "metadata": {
    "execution": {
     "iopub.execute_input": "2022-12-22T15:49:32.950996Z",
     "iopub.status.busy": "2022-12-22T15:49:32.950129Z",
     "iopub.status.idle": "2022-12-22T15:49:35.257059Z",
     "shell.execute_reply": "2022-12-22T15:49:35.255962Z",
     "shell.execute_reply.started": "2022-12-22T15:49:32.950958Z"
    }
   },
   "outputs": [],
   "source": [
    "plt.figure(figsize=(15,15),facecolor='white')\n",
    "\n",
    "plotnum=1 #counter\n",
    "\n",
    "for c in box:\n",
    "    if(plotnum<9):\n",
    "        a=plt.subplot(4,2,plotnum)#plotting 8 graph\n",
    "        sns.distplot(box[c])#to know distribution\n",
    "    plotnum+=1#increment counter\n",
    "plt.tight_layout()"
   ]
  },
  {
   "cell_type": "markdown",
   "metadata": {},
   "source": [
    "## ENCODE"
   ]
  },
  {
   "cell_type": "code",
   "execution_count": null,
   "metadata": {
    "execution": {
     "iopub.execute_input": "2022-12-22T15:50:33.483538Z",
     "iopub.status.busy": "2022-12-22T15:50:33.482985Z",
     "iopub.status.idle": "2022-12-22T15:50:33.494335Z",
     "shell.execute_reply": "2022-12-22T15:50:33.493073Z",
     "shell.execute_reply.started": "2022-12-22T15:50:33.483489Z"
    }
   },
   "outputs": [],
   "source": [
    "# daha iyi sonuç için büyüklük içeren kat. değişkenleri encode edelim\n",
    "\n",
    "data_object = df.select_dtypes(include = \"object\").columns\n",
    "print (data_object)"
   ]
  },
  {
   "cell_type": "code",
   "execution_count": null,
   "metadata": {
    "execution": {
     "iopub.execute_input": "2022-12-22T15:50:36.480441Z",
     "iopub.status.busy": "2022-12-22T15:50:36.48006Z",
     "iopub.status.idle": "2022-12-22T15:50:36.569092Z",
     "shell.execute_reply": "2022-12-22T15:50:36.56804Z",
     "shell.execute_reply.started": "2022-12-22T15:50:36.48041Z"
    }
   },
   "outputs": [],
   "source": [
    "from sklearn.preprocessing import LabelEncoder\n",
    "le = LabelEncoder()\n",
    "\n",
    "for features in data_object:\n",
    "    df[features] = le.fit_transform(df[features].astype(str))\n",
    "\n",
    "print (df.info())"
   ]
  },
  {
   "cell_type": "markdown",
   "metadata": {},
   "source": [
    "## Feature Scaling"
   ]
  },
  {
   "cell_type": "code",
   "execution_count": null,
   "metadata": {
    "execution": {
     "iopub.execute_input": "2022-12-22T15:50:53.577143Z",
     "iopub.status.busy": "2022-12-22T15:50:53.576425Z",
     "iopub.status.idle": "2022-12-22T15:50:53.585098Z",
     "shell.execute_reply": "2022-12-22T15:50:53.58416Z",
     "shell.execute_reply.started": "2022-12-22T15:50:53.577104Z"
    }
   },
   "outputs": [],
   "source": [
    "x=df.drop(['Id','SalePrice'],axis=1) ## all the features\n",
    "y=df['SalePrice']  ## target variable"
   ]
  },
  {
   "cell_type": "code",
   "execution_count": null,
   "metadata": {
    "execution": {
     "iopub.execute_input": "2022-12-22T15:50:55.549016Z",
     "iopub.status.busy": "2022-12-22T15:50:55.548639Z",
     "iopub.status.idle": "2022-12-22T15:50:55.562209Z",
     "shell.execute_reply": "2022-12-22T15:50:55.561425Z",
     "shell.execute_reply.started": "2022-12-22T15:50:55.548984Z"
    }
   },
   "outputs": [],
   "source": [
    "from sklearn.preprocessing import MinMaxScaler\n",
    "mc=MinMaxScaler()\n",
    "scaled_x=mc.fit_transform(x)"
   ]
  },
  {
   "cell_type": "code",
   "execution_count": null,
   "metadata": {
    "execution": {
     "iopub.execute_input": "2022-12-22T15:50:59.962874Z",
     "iopub.status.busy": "2022-12-22T15:50:59.961847Z",
     "iopub.status.idle": "2022-12-22T15:50:59.97078Z",
     "shell.execute_reply": "2022-12-22T15:50:59.969705Z",
     "shell.execute_reply.started": "2022-12-22T15:50:59.962836Z"
    }
   },
   "outputs": [],
   "source": [
    "train_df = df[df['SalePrice'].notnull()]\n",
    "test_df = df[df['SalePrice'].isnull()]"
   ]
  },
  {
   "cell_type": "markdown",
   "metadata": {},
   "source": [
    "## MODEL"
   ]
  },
  {
   "cell_type": "code",
   "execution_count": null,
   "metadata": {
    "execution": {
     "iopub.execute_input": "2022-12-22T15:51:06.514691Z",
     "iopub.status.busy": "2022-12-22T15:51:06.51426Z",
     "iopub.status.idle": "2022-12-22T15:51:06.523724Z",
     "shell.execute_reply": "2022-12-22T15:51:06.522537Z",
     "shell.execute_reply.started": "2022-12-22T15:51:06.51466Z"
    }
   },
   "outputs": [],
   "source": [
    "y = train_df['SalePrice'] \n",
    "X = train_df.drop([\"Id\", \"SalePrice\", \"LogSalePrice\"], axis=1)\n",
    "\n",
    "y_test = test_df['SalePrice'] \n",
    "X_test = test_df.drop([\"Id\", \"SalePrice\", \"LogSalePrice\"], axis=1)"
   ]
  },
  {
   "cell_type": "code",
   "execution_count": null,
   "metadata": {
    "execution": {
     "iopub.execute_input": "2022-12-22T15:51:45.982403Z",
     "iopub.status.busy": "2022-12-22T15:51:45.981307Z",
     "iopub.status.idle": "2022-12-22T15:51:46.622326Z",
     "shell.execute_reply": "2022-12-22T15:51:46.621459Z",
     "shell.execute_reply.started": "2022-12-22T15:51:45.982363Z"
    }
   },
   "outputs": [],
   "source": [
    "from xgboost import XGBRegressor\n",
    "XGB=XGBRegressor().fit(X,y)\n",
    "\n",
    "xtest_XGB_pred=XGB.predict(X_test) ## predicted x test"
   ]
  },
  {
   "cell_type": "code",
   "execution_count": null,
   "metadata": {
    "execution": {
     "iopub.execute_input": "2022-12-22T15:51:48.367073Z",
     "iopub.status.busy": "2022-12-22T15:51:48.366708Z",
     "iopub.status.idle": "2022-12-22T15:51:48.373945Z",
     "shell.execute_reply": "2022-12-22T15:51:48.37295Z",
     "shell.execute_reply.started": "2022-12-22T15:51:48.367044Z"
    }
   },
   "outputs": [],
   "source": [
    "xtest_XGB_pred[0:5]"
   ]
  },
  {
   "cell_type": "code",
   "execution_count": null,
   "metadata": {
    "execution": {
     "iopub.execute_input": "2022-12-22T15:51:50.356372Z",
     "iopub.status.busy": "2022-12-22T15:51:50.355991Z",
     "iopub.status.idle": "2022-12-22T15:51:50.377724Z",
     "shell.execute_reply": "2022-12-22T15:51:50.376851Z",
     "shell.execute_reply.started": "2022-12-22T15:51:50.356341Z"
    }
   },
   "outputs": [],
   "source": [
    "xtrain_XGB_pred=XGB.predict(X)\n",
    "xtrain_XGB_pred[0:5]"
   ]
  },
  {
   "cell_type": "code",
   "execution_count": null,
   "metadata": {
    "execution": {
     "iopub.execute_input": "2022-12-22T15:53:18.272824Z",
     "iopub.status.busy": "2022-12-22T15:53:18.272459Z",
     "iopub.status.idle": "2022-12-22T15:53:18.28164Z",
     "shell.execute_reply": "2022-12-22T15:53:18.280547Z",
     "shell.execute_reply.started": "2022-12-22T15:53:18.272795Z"
    }
   },
   "outputs": [],
   "source": [
    "my_submission = pd.DataFrame({'Id': test_df.index, 'SalePrice': xtest_XGB_pred})\n",
    "\n"
   ]
  },
  {
   "cell_type": "code",
   "execution_count": null,
   "metadata": {
    "execution": {
     "iopub.execute_input": "2022-12-22T15:53:21.062991Z",
     "iopub.status.busy": "2022-12-22T15:53:21.062298Z",
     "iopub.status.idle": "2022-12-22T15:53:21.07254Z",
     "shell.execute_reply": "2022-12-22T15:53:21.071767Z",
     "shell.execute_reply.started": "2022-12-22T15:53:21.062952Z"
    }
   },
   "outputs": [],
   "source": [
    "my_submission.head()"
   ]
  },
  {
   "cell_type": "code",
   "execution_count": null,
   "metadata": {
    "execution": {
     "iopub.execute_input": "2022-12-22T15:53:27.01776Z",
     "iopub.status.busy": "2022-12-22T15:53:27.017023Z",
     "iopub.status.idle": "2022-12-22T15:53:27.02736Z",
     "shell.execute_reply": "2022-12-22T15:53:27.026497Z",
     "shell.execute_reply.started": "2022-12-22T15:53:27.017721Z"
    }
   },
   "outputs": [],
   "source": [
    "my_submission.to_csv('submission.csv', index=False)"
   ]
  },
  {
   "cell_type": "code",
   "execution_count": null,
   "metadata": {},
   "outputs": [],
   "source": []
  }
 ],
 "metadata": {
  "kernelspec": {
   "display_name": "Python 3 (ipykernel)",
   "language": "python",
   "name": "python3"
  },
  "language_info": {
   "codemirror_mode": {
    "name": "ipython",
    "version": 3
   },
   "file_extension": ".py",
   "mimetype": "text/x-python",
   "name": "python",
   "nbconvert_exporter": "python",
   "pygments_lexer": "ipython3",
   "version": "3.9.15"
  }
 },
 "nbformat": 4,
 "nbformat_minor": 4
}
